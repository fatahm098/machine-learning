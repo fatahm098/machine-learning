{
  "metadata": {
    "kernelspec": {
      "language": "python",
      "display_name": "Python 3",
      "name": "python3"
    },
    "language_info": {
      "name": "python",
      "version": "3.10.13",
      "mimetype": "text/x-python",
      "codemirror_mode": {
        "name": "ipython",
        "version": 3
      },
      "pygments_lexer": "ipython3",
      "nbconvert_exporter": "python",
      "file_extension": ".py"
    },
    "kaggle": {
      "accelerator": "none",
      "dataSources": [
        {
          "sourceId": 8547470,
          "sourceType": "datasetVersion",
          "datasetId": 5002650
        }
      ],
      "dockerImageVersionId": 30732,
      "isInternetEnabled": true,
      "language": "python",
      "sourceType": "notebook",
      "isGpuEnabled": false
    },
    "colab": {
      "name": "notebookf2cb33f89e",
      "provenance": []
    }
  },
  "nbformat_minor": 0,
  "nbformat": 4,
  "cells": [
    {
      "source": [
        "\n",
        "# IMPORTANT: RUN THIS CELL IN ORDER TO IMPORT YOUR KAGGLE DATA SOURCES\n",
        "# TO THE CORRECT LOCATION (/kaggle/input) IN YOUR NOTEBOOK,\n",
        "# THEN FEEL FREE TO DELETE THIS CELL.\n",
        "# NOTE: THIS NOTEBOOK ENVIRONMENT DIFFERS FROM KAGGLE'S PYTHON\n",
        "# ENVIRONMENT SO THERE MAY BE MISSING LIBRARIES USED BY YOUR\n",
        "# NOTEBOOK.\n",
        "\n",
        "import os\n",
        "import sys\n",
        "from tempfile import NamedTemporaryFile\n",
        "from urllib.request import urlopen\n",
        "from urllib.parse import unquote, urlparse\n",
        "from urllib.error import HTTPError\n",
        "from zipfile import ZipFile\n",
        "import tarfile\n",
        "import shutil\n",
        "\n",
        "CHUNK_SIZE = 40960\n",
        "DATA_SOURCE_MAPPING = 'myanimelist-novel-rating-dataset:https%3A%2F%2Fstorage.googleapis.com%2Fkaggle-data-sets%2F5002650%2F8547470%2Fbundle%2Farchive.zip%3FX-Goog-Algorithm%3DGOOG4-RSA-SHA256%26X-Goog-Credential%3Dgcp-kaggle-com%2540kaggle-161607.iam.gserviceaccount.com%252F20240610%252Fauto%252Fstorage%252Fgoog4_request%26X-Goog-Date%3D20240610T114625Z%26X-Goog-Expires%3D259200%26X-Goog-SignedHeaders%3Dhost%26X-Goog-Signature%3D0fcae9c9fd9e431ba4ee54120003499cdae01aea452d0cd7ac596af7def2542e310a83176bd57f6a52246d7d7661c799d221658daf53ca3e519b329cdfc8a347a847b00a5e1a292f4f41817e34a6b1f877779d8f1d8937ae48f62ed9dc92a87962261acbf35bad53f9001d81e1643e4ba4e7f684905c8106f95fe4f6e2525252ae79d3b19244b07c5ac56717a7a2cba5aaedc4159cd2c7ca737ba03dac5f2bdf5c1b312eb11aa0278ebc98cb16d657971cfe801eda1f35e4593cf06093ae5a2b3c53af4b74922060a9c359b56729f674738e14b80a17bb0eb10474a50a058b7811cb2e483692f790fd86600ea09fe5c648dd4236caa4a3dfe939ff42e5bf70ea'\n",
        "\n",
        "KAGGLE_INPUT_PATH='/kaggle/input'\n",
        "KAGGLE_WORKING_PATH='/kaggle/working'\n",
        "KAGGLE_SYMLINK='kaggle'\n",
        "\n",
        "!umount /kaggle/input/ 2> /dev/null\n",
        "shutil.rmtree('/kaggle/input', ignore_errors=True)\n",
        "os.makedirs(KAGGLE_INPUT_PATH, 0o777, exist_ok=True)\n",
        "os.makedirs(KAGGLE_WORKING_PATH, 0o777, exist_ok=True)\n",
        "\n",
        "try:\n",
        "  os.symlink(KAGGLE_INPUT_PATH, os.path.join(\"..\", 'input'), target_is_directory=True)\n",
        "except FileExistsError:\n",
        "  pass\n",
        "try:\n",
        "  os.symlink(KAGGLE_WORKING_PATH, os.path.join(\"..\", 'working'), target_is_directory=True)\n",
        "except FileExistsError:\n",
        "  pass\n",
        "\n",
        "for data_source_mapping in DATA_SOURCE_MAPPING.split(','):\n",
        "    directory, download_url_encoded = data_source_mapping.split(':')\n",
        "    download_url = unquote(download_url_encoded)\n",
        "    filename = urlparse(download_url).path\n",
        "    destination_path = os.path.join(KAGGLE_INPUT_PATH, directory)\n",
        "    try:\n",
        "        with urlopen(download_url) as fileres, NamedTemporaryFile() as tfile:\n",
        "            total_length = fileres.headers['content-length']\n",
        "            print(f'Downloading {directory}, {total_length} bytes compressed')\n",
        "            dl = 0\n",
        "            data = fileres.read(CHUNK_SIZE)\n",
        "            while len(data) > 0:\n",
        "                dl += len(data)\n",
        "                tfile.write(data)\n",
        "                done = int(50 * dl / int(total_length))\n",
        "                sys.stdout.write(f\"\\r[{'=' * done}{' ' * (50-done)}] {dl} bytes downloaded\")\n",
        "                sys.stdout.flush()\n",
        "                data = fileres.read(CHUNK_SIZE)\n",
        "            if filename.endswith('.zip'):\n",
        "              with ZipFile(tfile) as zfile:\n",
        "                zfile.extractall(destination_path)\n",
        "            else:\n",
        "              with tarfile.open(tfile.name) as tarfile:\n",
        "                tarfile.extractall(destination_path)\n",
        "            print(f'\\nDownloaded and uncompressed: {directory}')\n",
        "    except HTTPError as e:\n",
        "        print(f'Failed to load (likely expired) {download_url} to path {destination_path}')\n",
        "        continue\n",
        "    except OSError as e:\n",
        "        print(f'Failed to load {download_url} to path {destination_path}')\n",
        "        continue\n",
        "\n",
        "print('Data source import complete.')\n"
      ],
      "metadata": {
        "id": "JyG0vqQzkxls"
      },
      "cell_type": "code",
      "outputs": [],
      "execution_count": null
    },
    {
      "cell_type": "code",
      "source": [
        "# This Python 3 environment comes with many helpful analytics libraries installed\n",
        "# It is defined by the kaggle/python Docker image: https://github.com/kaggle/docker-python\n",
        "# For example, here's several helpful packages to load\n",
        "\n",
        "import numpy as np # linear algebra\n",
        "import pandas as pd # data processing, CSV file I/O (e.g. pd.read_csv)\n",
        "\n",
        "# Input data files are available in the read-only \"../input/\" directory\n",
        "# For example, running this (by clicking run or pressing Shift+Enter) will list all files under the input directory\n",
        "\n",
        "import os\n",
        "for dirname, _, filenames in os.walk('/kaggle/input'):\n",
        "    for filename in filenames:\n",
        "        print(os.path.join(dirname, filename))\n",
        "\n",
        "# You can write up to 20GB to the current directory (/kaggle/working/) that gets preserved as output when you create a version using \"Save & Run All\"\n",
        "# You can also write temporary files to /kaggle/temp/, but they won't be saved outside of the current session"
      ],
      "metadata": {
        "_uuid": "8f2839f25d086af736a60e9eeb907d3b93b6e0e5",
        "_cell_guid": "b1076dfc-b9ad-4769-8c92-a6c4dae69d19",
        "execution": {
          "iopub.status.busy": "2024-06-10T11:41:43.590778Z",
          "iopub.execute_input": "2024-06-10T11:41:43.591328Z",
          "iopub.status.idle": "2024-06-10T11:41:43.60257Z",
          "shell.execute_reply.started": "2024-06-10T11:41:43.591285Z",
          "shell.execute_reply": "2024-06-10T11:41:43.600498Z"
        },
        "trusted": true,
        "id": "TQBL20CHkxlt",
        "outputId": "25f82d01-9ae7-4e01-a7f4-24baf2b308f6"
      },
      "execution_count": null,
      "outputs": [
        {
          "name": "stdout",
          "text": "/kaggle/input/myanimelist-novel-rating-dataset/interaction_ori.csv\n/kaggle/input/myanimelist-novel-rating-dataset/interaction_all.csv\n/kaggle/input/myanimelist-novel-rating-dataset/users.csv\n/kaggle/input/myanimelist-novel-rating-dataset/interaction_equal.csv\n/kaggle/input/myanimelist-novel-rating-dataset/novels.csv\n",
          "output_type": "stream"
        }
      ]
    },
    {
      "cell_type": "code",
      "source": [
        "import numpy as np\n",
        "import pandas as pd\n",
        "import matplotlib.pyplot as plt\n",
        "import seaborn as sns\n",
        "df1=pd.read_csv('/kaggle/input/myanimelist-novel-rating-dataset/interaction_ori.csv')\n",
        "df2=pd.read_csv('/kaggle/input/myanimelist-novel-rating-dataset/interaction_all.csv')\n",
        "df3=pd.read_csv('/kaggle/input/myanimelist-novel-rating-dataset/users.csv')\n",
        "df4=pd.read_csv('/kaggle/input/myanimelist-novel-rating-dataset/interaction_equal.csv')\n",
        "df5=pd.read_csv('/kaggle/input/myanimelist-novel-rating-dataset/novels.csv')\n",
        "\n",
        "\n"
      ],
      "metadata": {
        "trusted": true,
        "id": "hhavjDLrkxlu"
      },
      "execution_count": null,
      "outputs": []
    },
    {
      "cell_type": "code",
      "source": [
        "df1.head()"
      ],
      "metadata": {
        "execution": {
          "iopub.status.busy": "2024-06-10T11:41:35.346165Z",
          "iopub.status.idle": "2024-06-10T11:41:35.346639Z",
          "shell.execute_reply.started": "2024-06-10T11:41:35.346397Z",
          "shell.execute_reply": "2024-06-10T11:41:35.346437Z"
        },
        "trusted": true,
        "id": "XOFDMjMtkxlv"
      },
      "execution_count": null,
      "outputs": []
    },
    {
      "cell_type": "code",
      "source": [
        "df2.head()"
      ],
      "metadata": {
        "execution": {
          "iopub.status.busy": "2024-06-10T11:41:35.348611Z",
          "iopub.status.idle": "2024-06-10T11:41:35.349038Z",
          "shell.execute_reply.started": "2024-06-10T11:41:35.348832Z",
          "shell.execute_reply": "2024-06-10T11:41:35.348851Z"
        },
        "trusted": true,
        "id": "-Nb6Fv8rkxlv"
      },
      "execution_count": null,
      "outputs": []
    },
    {
      "cell_type": "code",
      "source": [
        "df3.head()"
      ],
      "metadata": {
        "execution": {
          "iopub.status.busy": "2024-06-10T11:41:35.350915Z",
          "iopub.status.idle": "2024-06-10T11:41:35.351345Z",
          "shell.execute_reply.started": "2024-06-10T11:41:35.351131Z",
          "shell.execute_reply": "2024-06-10T11:41:35.351149Z"
        },
        "trusted": true,
        "id": "V-BgGLBNkxlw"
      },
      "execution_count": null,
      "outputs": []
    },
    {
      "cell_type": "code",
      "source": [
        "df4.head()"
      ],
      "metadata": {
        "execution": {
          "iopub.status.busy": "2024-06-10T11:41:35.355828Z",
          "iopub.status.idle": "2024-06-10T11:41:35.35632Z",
          "shell.execute_reply.started": "2024-06-10T11:41:35.356092Z",
          "shell.execute_reply": "2024-06-10T11:41:35.356114Z"
        },
        "trusted": true,
        "id": "e_a8x3qjkxlw"
      },
      "execution_count": null,
      "outputs": []
    },
    {
      "cell_type": "code",
      "source": [
        "df5.head()"
      ],
      "metadata": {
        "execution": {
          "iopub.status.busy": "2024-06-10T11:41:35.358311Z",
          "iopub.status.idle": "2024-06-10T11:41:35.358812Z",
          "shell.execute_reply.started": "2024-06-10T11:41:35.358596Z",
          "shell.execute_reply": "2024-06-10T11:41:35.358615Z"
        },
        "trusted": true,
        "id": "MlvZqlAGkxlx"
      },
      "execution_count": null,
      "outputs": []
    },
    {
      "cell_type": "code",
      "source": [
        "merged_df = pd.merge(df3, df4, on='username')\n",
        "merged_df.head()"
      ],
      "metadata": {
        "execution": {
          "iopub.status.busy": "2024-06-10T11:41:35.361155Z",
          "iopub.status.idle": "2024-06-10T11:41:35.361646Z",
          "shell.execute_reply.started": "2024-06-10T11:41:35.361393Z",
          "shell.execute_reply": "2024-06-10T11:41:35.361439Z"
        },
        "trusted": true,
        "id": "lf1RyHFskxlx"
      },
      "execution_count": null,
      "outputs": []
    },
    {
      "cell_type": "code",
      "source": [
        "merged_df=merged_df.drop(columns='Unnamed: 0_x')\n",
        "merged_df.head()"
      ],
      "metadata": {
        "execution": {
          "iopub.status.busy": "2024-06-10T11:41:35.363443Z",
          "iopub.status.idle": "2024-06-10T11:41:35.36401Z",
          "shell.execute_reply.started": "2024-06-10T11:41:35.363722Z",
          "shell.execute_reply": "2024-06-10T11:41:35.363745Z"
        },
        "trusted": true,
        "id": "2kQEGZMLkxlx"
      },
      "execution_count": null,
      "outputs": []
    },
    {
      "cell_type": "code",
      "source": [
        "merged_df=merged_df.drop(columns='Unnamed: 0_y')\n",
        "merged_df.head()"
      ],
      "metadata": {
        "execution": {
          "iopub.status.busy": "2024-06-10T11:41:35.365344Z",
          "iopub.status.idle": "2024-06-10T11:41:35.36592Z",
          "shell.execute_reply.started": "2024-06-10T11:41:35.365636Z",
          "shell.execute_reply": "2024-06-10T11:41:35.365661Z"
        },
        "trusted": true,
        "id": "NGDfhfn1kxly"
      },
      "execution_count": null,
      "outputs": []
    },
    {
      "cell_type": "code",
      "source": [
        "top_novel = df5[[\"genres\"]]\n",
        "top_novel.head()\n"
      ],
      "metadata": {
        "execution": {
          "iopub.status.busy": "2024-06-10T11:41:35.367177Z",
          "iopub.status.idle": "2024-06-10T11:41:35.367761Z",
          "shell.execute_reply.started": "2024-06-10T11:41:35.367474Z",
          "shell.execute_reply": "2024-06-10T11:41:35.367499Z"
        },
        "trusted": true,
        "id": "73IFhlygkxly"
      },
      "execution_count": null,
      "outputs": []
    },
    {
      "cell_type": "code",
      "source": [
        "# Pisahkan kolom 'genres' menggunakan koma sebagai pemisah\n",
        "top_novel[\"genres\"] = top_novel[\"genres\"].str.split(\", \")\n",
        "\n",
        "# Gunakan explode untuk memisahkan genre menjadi baris tersendiri\n",
        "top_novel = top_novel.explode(\"genres\")\n",
        "\n",
        "# (Opsional) Ubah format penulisan genre menjadi kapitalisasi awal huruf\n",
        "top_novel[\"genres\"] = top_novel[\"genres\"].str.title()\n",
        "\n",
        "# Tampilkan jumlah genre unik\n",
        "print(f'Total unique genres are {len(top_novel[\"genres\"].unique())}')\n",
        "\n",
        "# Hitung dan tampilkan jumlah kemunculan setiap genre\n",
        "occurrences = top_novel[\"genres\"].value_counts().to_frame().T\n",
        "styled_occurrences = occurrences.style.set_properties(**{\n",
        "    \"background-color\": \"#2a9d8f\",\n",
        "    \"color\": \"white\",\n",
        "    \"border\": \"1.5px solid black\"\n",
        "})\n",
        "\n",
        "# Tampilkan DataFrame yang telah di-styling\n",
        "styled_occurrences\n"
      ],
      "metadata": {
        "execution": {
          "iopub.status.busy": "2024-06-10T11:41:35.370189Z",
          "iopub.status.idle": "2024-06-10T11:41:35.370771Z",
          "shell.execute_reply.started": "2024-06-10T11:41:35.370488Z",
          "shell.execute_reply": "2024-06-10T11:41:35.370513Z"
        },
        "trusted": true,
        "id": "yES1bOP5kxly"
      },
      "execution_count": null,
      "outputs": []
    },
    {
      "cell_type": "code",
      "source": [
        "df5=df5.rename(columns={'mal_id': 'novel_id'})\n",
        "df5.head()"
      ],
      "metadata": {
        "execution": {
          "iopub.status.busy": "2024-06-10T11:41:35.371906Z",
          "iopub.status.idle": "2024-06-10T11:41:35.372476Z",
          "shell.execute_reply.started": "2024-06-10T11:41:35.372166Z",
          "shell.execute_reply": "2024-06-10T11:41:35.372189Z"
        },
        "trusted": true,
        "id": "g8hNTGaDkxlz"
      },
      "execution_count": null,
      "outputs": []
    },
    {
      "cell_type": "markdown",
      "source": [],
      "metadata": {
        "id": "wj615y0zkxlz"
      }
    },
    {
      "cell_type": "code",
      "source": [],
      "metadata": {
        "id": "NiagfW0Zkxlz"
      },
      "execution_count": null,
      "outputs": []
    },
    {
      "cell_type": "code",
      "source": [
        "df5_selected = df5[['novel_id', 'title' ]]\n",
        "merged_df2 = merged_df.merge(merged_df, on='novel_id', how='outer').merge(df5_selected, on='novel_id', how='outer')"
      ],
      "metadata": {
        "execution": {
          "iopub.status.busy": "2024-06-10T11:41:35.37399Z",
          "iopub.status.idle": "2024-06-10T11:41:35.374576Z",
          "shell.execute_reply.started": "2024-06-10T11:41:35.374258Z",
          "shell.execute_reply": "2024-06-10T11:41:35.374291Z"
        },
        "trusted": true,
        "id": "uyuHPgaekxlz"
      },
      "execution_count": null,
      "outputs": []
    }
  ]
}